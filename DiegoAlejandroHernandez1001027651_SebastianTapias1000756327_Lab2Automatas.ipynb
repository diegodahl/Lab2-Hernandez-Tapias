{
  "nbformat": 4,
  "nbformat_minor": 0,
  "metadata": {
    "colab": {
      "provenance": []
    },
    "kernelspec": {
      "name": "python3",
      "display_name": "Python 3"
    },
    "language_info": {
      "name": "python"
    }
  },
  "cells": [
    {
      "cell_type": "markdown",
      "source": [
        "## Cifrado de Vigenère"
      ],
      "metadata": {
        "id": "eOhaRb0Vz1wC"
      }
    },
    {
      "cell_type": "code",
      "source": [
        "class MaquinaTuringVigenere:\n",
        "    def __init__(self, mensaje, clave):\n",
        "        self.cintas = {\n",
        "            \"mensaje\": list(mensaje.upper()),\n",
        "            \"clave\": list((clave * (len(mensaje) // len(clave) + 1))[:len(mensaje)]),\n",
        "            \"cifrado\": [\"B\"] * len(mensaje),\n",
        "        }\n",
        "        self.cabezales = {\"mensaje\": 0, \"clave\": 0, \"cifrado\": 0}\n",
        "        self.estado = \"q0\"\n",
        "\n",
        "    def transicion(self):\n",
        "        if self.estado == \"q0\":\n",
        "            if self.cabezales[\"mensaje\"] < len(self.cintas[\"mensaje\"]):\n",
        "                self.estado = \"q_cifrar\"\n",
        "            else:\n",
        "                self.estado = \"q_accept\"\n",
        "\n",
        "        elif self.estado == \"q_cifrar\":\n",
        "            m = ord(self.cintas[\"mensaje\"][self.cabezales[\"mensaje\"]]) - ord('A')\n",
        "            k = ord(self.cintas[\"clave\"][self.cabezales[\"clave\"]]) - ord('A')\n",
        "            cifrado = (m + k) % 26\n",
        "            self.cintas[\"cifrado\"][self.cabezales[\"cifrado\"]] = chr(cifrado + ord('A'))\n",
        "\n",
        "            self.cabezales[\"mensaje\"] += 1\n",
        "            self.cabezales[\"clave\"] += 1\n",
        "            self.cabezales[\"cifrado\"] += 1\n",
        "            self.estado = \"q0\"\n",
        "\n",
        "def validar_entrada(texto):\n",
        "    if not texto.isalpha():\n",
        "        raise ValueError(\"Solo se permiten letras (A-Z) sin espacios o símbolos\")\n",
        "    return texto.upper()\n",
        "\n",
        "def cifrar_vigenere_tm():\n",
        "    print(\"=== Cifrado de Vigenère con Máquina de Turing ===\")\n",
        "    try:\n",
        "        mensaje = input(\"Mensaje a cifrar: \")\n",
        "        mensaje = validar_entrada(mensaje)\n",
        "\n",
        "        clave = input(\"Clave: \")\n",
        "        clave = validar_entrada(clave)\n",
        "\n",
        "        mt = MaquinaTuringVigenere(mensaje, clave)\n",
        "        while mt.estado != \"q_accept\":\n",
        "            mt.transicion()\n",
        "\n",
        "        print(f\"\\nMensaje cifrado: {''.join(mt.cintas['cifrado'])}\")  # ← Corregido aquí\n",
        "\n",
        "    except ValueError as e:\n",
        "        print(f\"Error: {e}\")\n",
        "\n",
        "if __name__ == \"__main__\":\n",
        "    cifrar_vigenere_tm()"
      ],
      "metadata": {
        "colab": {
          "base_uri": "https://localhost:8080/"
        },
        "id": "1WTat1wjz0-b",
        "outputId": "6c27de24-0f4e-430c-eaa5-333f8027bfb3"
      },
      "execution_count": 1,
      "outputs": [
        {
          "output_type": "stream",
          "name": "stdout",
          "text": [
            "=== Cifrado de Vigenère con Máquina de Turing ===\n",
            "Mensaje a cifrar: hola\n",
            "Clave: oe\n",
            "\n",
            "Mensaje cifrado: VSZE\n"
          ]
        }
      ]
    },
    {
      "cell_type": "code",
      "source": [],
      "metadata": {
        "id": "S8JNtV5W206X"
      },
      "execution_count": null,
      "outputs": []
    },
    {
      "cell_type": "code",
      "source": [],
      "metadata": {
        "id": "Sfcg1ek22082"
      },
      "execution_count": null,
      "outputs": []
    },
    {
      "cell_type": "code",
      "source": [],
      "metadata": {
        "id": "fjjeWVnY21J2"
      },
      "execution_count": null,
      "outputs": []
    },
    {
      "cell_type": "code",
      "source": [],
      "metadata": {
        "id": "js5JIKwHF1_9"
      },
      "execution_count": 7,
      "outputs": []
    },
    {
      "cell_type": "code",
      "source": [],
      "metadata": {
        "id": "4gvj-UlGf_jJ"
      },
      "execution_count": null,
      "outputs": []
    }
  ]
}