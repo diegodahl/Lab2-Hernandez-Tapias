{
  "nbformat": 4,
  "nbformat_minor": 0,
  "metadata": {
    "colab": {
      "provenance": []
    },
    "kernelspec": {
      "name": "python3",
      "display_name": "Python 3"
    },
    "language_info": {
      "name": "python"
    }
  },
  "cells": [
    {
      "cell_type": "markdown",
      "source": [
        "## Cifrado de Vigenère"
      ],
      "metadata": {
        "id": "eOhaRb0Vz1wC"
      }
    },
    {
      "cell_type": "code",
      "source": [
        "class MaquinaTuringVigenere:\n",
        "    def __init__(self, mensaje, clave):\n",
        "\n",
        "        self.mensaje = mensaje.upper()\n",
        "        self.clave = clave.upper()\n",
        "        self.estado = \"q0\"\n",
        "\n",
        "    def transicion(self):\n",
        "\n",
        "        if self.estado == \"q0\":\n",
        "            print(\"Iniciando proceso de cifrado...\")\n",
        "            self.estado = \"q_accept\"\n",
        "\n",
        "def validar_entrada(texto):\n",
        "\n",
        "    if not texto.isalpha():\n",
        "        raise ValueError(\"Error: Solo se permiten letras (A-Z)\")\n",
        "    return texto.upper()\n",
        "\n",
        "def cifrar_vigenere_tm():\n",
        "    print(\"=== Cifrado de Vigenère con Máquina de Turing ===\")\n",
        "    try:\n",
        "        mensaje = input(\"Ingrese el mensaje a cifrar: \")\n",
        "        mensaje = validar_entrada(mensaje)\n",
        "\n",
        "        clave = input(\"Ingrese la palabra clave: \")\n",
        "        clave = validar_entrada(clave)\n",
        "\n",
        "        mt = MaquinaTuringVigenere(mensaje, clave)\n",
        "        mt.transicion()\n",
        "\n",
        "    except ValueError as e:\n",
        "        print(f\"Error: {e}\")\n",
        "\n",
        "if __name__ == \"__main__\":\n",
        "    cifrar_vigenere_tm()"
      ],
      "metadata": {
        "colab": {
          "base_uri": "https://localhost:8080/"
        },
        "id": "1WTat1wjz0-b",
        "outputId": "2946c555-8144-4b3f-98e8-d7fc33450886"
      },
      "execution_count": 7,
      "outputs": [
        {
          "output_type": "stream",
          "name": "stdout",
          "text": [
            "=== Cifrado de Vigenère con Máquina de Turing ===\n",
            "Ingrese el mensaje a cifrar: HOLA\n",
            "Ingrese la palabra clave: OE\n",
            "Iniciando proceso de cifrado...\n"
          ]
        }
      ]
    },
    {
      "cell_type": "code",
      "source": [],
      "metadata": {
        "id": "S8JNtV5W206X"
      },
      "execution_count": null,
      "outputs": []
    },
    {
      "cell_type": "code",
      "source": [],
      "metadata": {
        "id": "Sfcg1ek22082"
      },
      "execution_count": null,
      "outputs": []
    },
    {
      "cell_type": "code",
      "source": [],
      "metadata": {
        "id": "fjjeWVnY21J2"
      },
      "execution_count": null,
      "outputs": []
    },
    {
      "cell_type": "code",
      "source": [],
      "metadata": {
        "id": "js5JIKwHF1_9"
      },
      "execution_count": 7,
      "outputs": []
    },
    {
      "cell_type": "code",
      "source": [],
      "metadata": {
        "id": "4gvj-UlGf_jJ"
      },
      "execution_count": null,
      "outputs": []
    }
  ]
}